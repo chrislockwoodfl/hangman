{
 "cells": [
  {
   "cell_type": "code",
   "execution_count": 1,
   "id": "9cabbd87-3349-4bc0-9f5b-43bd32f4a6bf",
   "metadata": {},
   "outputs": [
    {
     "name": "stdout",
     "output_type": "stream",
     "text": [
      " \n",
      " _                                             \n",
      "| |                                            \n",
      "| |__   __ _ _ __   __ _ _ __ ___   __ _ _ __  \n",
      "| '_ \\ / _` | '_ \\ / _` | '_ ` _ \\ / _` | '_ \\ \n",
      "| | | | (_| | | | | (_| | | | | | | (_| | | | |\n",
      "|_| |_|\\__,_|_| |_|\\__, |_| |_| |_|\\__,_|_| |_|\n",
      "                    __/ |                      \n",
      "                   |___/    \n",
      "_______\n",
      "Let's play Hangman. I'm thinking of a word. Guess the letters until you have the entire word. You have 6 guesses left.\n"
     ]
    },
    {
     "name": "stdin",
     "output_type": "stream",
     "text": [
      "Guess a letter:  e\n"
     ]
    },
    {
     "name": "stdout",
     "output_type": "stream",
     "text": [
      "You guessed e. That's not in the word.\n",
      "You have 5 guesses left.\n",
      "\n",
      "  +---+\n",
      "  |   |\n",
      "  O   |\n",
      "      |\n",
      "      |\n",
      "      |\n",
      "=========\n",
      "\n",
      "_______\n",
      "\n"
     ]
    },
    {
     "name": "stdin",
     "output_type": "stream",
     "text": [
      "Guess a letter:  a\n"
     ]
    },
    {
     "name": "stdout",
     "output_type": "stream",
     "text": [
      "You already guessed a.\n",
      "You have 5 guesses left.\n",
      "\n",
      "  +---+\n",
      "  |   |\n",
      "  O   |\n",
      "      |\n",
      "      |\n",
      "      |\n",
      "=========\n",
      "\n",
      "_a___a_\n",
      "\n"
     ]
    },
    {
     "name": "stdin",
     "output_type": "stream",
     "text": [
      "Guess a letter:  t\n"
     ]
    },
    {
     "name": "stdout",
     "output_type": "stream",
     "text": [
      "You guessed t. That's not in the word.\n",
      "You have 4 guesses left.\n",
      "\n",
      "  +---+\n",
      "  |   |\n",
      "  O   |\n",
      "  |   |\n",
      "      |\n",
      "      |\n",
      "=========\n",
      "\n",
      "_a___a_\n",
      "\n"
     ]
    },
    {
     "name": "stdin",
     "output_type": "stream",
     "text": [
      "Guess a letter:  s\n"
     ]
    },
    {
     "name": "stdout",
     "output_type": "stream",
     "text": [
      "You guessed s. That's not in the word.\n",
      "You have 3 guesses left.\n",
      "\n",
      "  +---+\n",
      "  |   |\n",
      "  O   |\n",
      " /|   |\n",
      "      |\n",
      "      |\n",
      "=========\n",
      "_a___a_\n",
      "\n"
     ]
    },
    {
     "name": "stdin",
     "output_type": "stream",
     "text": [
      "Guess a letter:  n\n"
     ]
    },
    {
     "name": "stdout",
     "output_type": "stream",
     "text": [
      "You guessed n. That's not in the word.\n",
      "You have 2 guesses left.\n",
      "\n",
      "  +---+\n",
      "  |   |\n",
      "  O   |\n",
      " /|\\  |\n",
      "      |\n",
      "      |\n",
      "=========\n",
      "\n",
      "_a___a_\n",
      "\n"
     ]
    },
    {
     "name": "stdin",
     "output_type": "stream",
     "text": [
      "Guess a letter:  r\n"
     ]
    },
    {
     "name": "stdout",
     "output_type": "stream",
     "text": [
      "You guessed r. That's not in the word.\n",
      "You have 1 guesses left.\n",
      "\n",
      "  +---+\n",
      "  |   |\n",
      "  O   |\n",
      " /|\\  |\n",
      " /    |\n",
      "      |\n",
      "=========\n",
      "\n",
      "_a___a_\n",
      "\n"
     ]
    },
    {
     "name": "stdin",
     "output_type": "stream",
     "text": [
      "Guess a letter:  h\n"
     ]
    },
    {
     "name": "stdout",
     "output_type": "stream",
     "text": [
      "You guessed h. That's not in the word.\n",
      "You have 0 guesses left.\n",
      "\n",
      "  +---+\n",
      "  |   |\n",
      "  O   |\n",
      " /|\\  |\n",
      " / \\  |\n",
      "      |\n",
      "=========\n",
      "\n",
      "_a___a_\n",
      "\n",
      "You ran out of guesses. You lose. The word was walkway.\n"
     ]
    }
   ],
   "source": [
    "# Hangman game by Chris Lockwood\n",
    "\n",
    "import random\n",
    "\n",
    "# import word list and hangman art\n",
    "from hangman_words import word_list\n",
    "from hangman_art import stages\n",
    "from hangman_art import logo\n",
    "\n",
    "print(logo)\n",
    "chosen_word = random.choice(word_list)\n",
    "#print(chosen_word)\n",
    "lives = 6\n",
    "\n",
    "placeholder = \"\"\n",
    "word_length = len(chosen_word)\n",
    "for position in range(word_length):\n",
    "    placeholder += \"_\"\n",
    "print(placeholder)\n",
    "\n",
    "game_over = False\n",
    "correct_letters = []\n",
    "guesses = []\n",
    "\n",
    "print(\"Let's play Hangman. I'm thinking of a word. Guess the letters until you have the entire word. You have 6 guesses left.\")\n",
    "while not game_over:\n",
    "    guess = input(\"Guess a letter: \").lower()\n",
    "\n",
    "    display = \"\"\n",
    "\n",
    "    for letter in chosen_word:\n",
    "        if letter == guess:\n",
    "            display += letter\n",
    "            correct_letters.append(guess)\n",
    "        elif letter in correct_letters:\n",
    "            display += letter\n",
    "        else:\n",
    "            display += \"_\"\n",
    "\n",
    "    # If guess is not a letter in the chosen_word, Then reduce 'lives' by 1,\n",
    "    # unless player has already guessed that letter\n",
    "    if guess not in chosen_word and guess not in guesses:\n",
    "        lives -= 1\n",
    "        print(\"You guessed\", guess + \". That's not in the word.\")\n",
    "    else:\n",
    "        print(\"You already guessed\", guess + \".\")\n",
    "\n",
    "    print(\"You have\", lives, \"guesses left.\")\n",
    "    guesses.append(guess)\n",
    "\n",
    "    #  print the hangman graphic that matches number of lives left\n",
    "    print(stages[lives])\n",
    "\n",
    "    # print word in progress\n",
    "    print(display + \"\\n\")\n",
    "\n",
    "    if lives == 0:\n",
    "        game_over = True\n",
    "        print(\"You ran out of guesses. You lose. The word was\", chosen_word + \".\")\n",
    "    elif \"_\" not in display:\n",
    "        game_over = True\n",
    "        print(\"You win!\")"
   ]
  }
 ],
 "metadata": {
  "kernelspec": {
   "display_name": "Python 3 (ipykernel)",
   "language": "python",
   "name": "python3"
  },
  "language_info": {
   "codemirror_mode": {
    "name": "ipython",
    "version": 3
   },
   "file_extension": ".py",
   "mimetype": "text/x-python",
   "name": "python",
   "nbconvert_exporter": "python",
   "pygments_lexer": "ipython3",
   "version": "3.13.2"
  }
 },
 "nbformat": 4,
 "nbformat_minor": 5
}
